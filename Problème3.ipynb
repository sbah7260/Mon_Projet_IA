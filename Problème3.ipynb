{
 "cells": [
  {
   "cell_type": "markdown",
   "id": "05acf1d0",
   "metadata": {},
   "source": [
    "## Projets de Fin de Formation\n",
    "# (Formation en Intelligence Artificielle)"
   ]
  },
  {
   "cell_type": "markdown",
   "id": "1d3d9afc",
   "metadata": {},
   "source": [
    "Problème 3: Regroupement de données Textuelles"
   ]
  },
  {
   "cell_type": "markdown",
   "id": "4b6c97e9",
   "metadata": {},
   "source": [
    "Le problème3 est un problème d apprentissage non-supervisé (clustering) dont nous allons regrouper l'ensemble des données textuelles à partir des similaritées."
   ]
  },
  {
   "cell_type": "code",
   "execution_count": 1,
   "id": "6145172c",
   "metadata": {},
   "outputs": [],
   "source": [
    "#Importation des libraries\n",
    "import pandas as pd\n",
    "import numpy as np\n",
    "import matplotlib.pyplot as plt\n",
    "from sklearn import datasets\n",
    "from sklearn.cluster import KMeans\n",
    "from sklearn.metrics import accuracy_score, confusion_matrix, ConfusionMatrixDisplay\n",
    "\n",
    "import mpl_toolkits.mplot3d "
   ]
  },
  {
   "cell_type": "code",
   "execution_count": 3,
   "id": "387a3157",
   "metadata": {},
   "outputs": [],
   "source": [
    "data = 1"
   ]
  },
  {
   "cell_type": "code",
   "execution_count": null,
   "id": "4cc9db78",
   "metadata": {},
   "outputs": [],
   "source": []
  }
 ],
 "metadata": {
  "kernelspec": {
   "display_name": "Python 3 (ipykernel)",
   "language": "python",
   "name": "python3"
  },
  "language_info": {
   "codemirror_mode": {
    "name": "ipython",
    "version": 3
   },
   "file_extension": ".py",
   "mimetype": "text/x-python",
   "name": "python",
   "nbconvert_exporter": "python",
   "pygments_lexer": "ipython3",
   "version": "3.9.7"
  }
 },
 "nbformat": 4,
 "nbformat_minor": 5
}
